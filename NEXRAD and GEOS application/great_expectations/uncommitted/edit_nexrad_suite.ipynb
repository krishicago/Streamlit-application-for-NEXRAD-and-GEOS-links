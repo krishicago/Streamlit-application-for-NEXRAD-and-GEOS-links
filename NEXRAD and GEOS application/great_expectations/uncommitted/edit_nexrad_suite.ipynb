{
 "cells": [
  {
   "cell_type": "markdown",
   "id": "fdf61581",
   "metadata": {},
   "source": [
    "# Initialize a new Expectation Suite by profiling a batch of your data.\n",
    "This process helps you avoid writing lots of boilerplate when authoring suites by allowing you to select columns and other factors that you care about and letting a profiler write some candidate expectations for you to adjust.\n",
    "\n",
    "**Expectation Suite Name**: `nexrad_suite`\n"
   ]
  },
  {
   "cell_type": "code",
   "execution_count": 2,
   "id": "27532456",
   "metadata": {},
   "outputs": [
    {
     "name": "stdout",
     "output_type": "stream",
     "text": [
      "2023-02-10T15:11:17-0500 - INFO - Great Expectations logging enabled at 20 level by JupyterUX module.\n",
      "2023-02-10T15:11:17-0500 - INFO - FileDataContext loading zep config\n",
      "2023-02-10T15:11:17-0500 - INFO - GxConfig.parse_yaml() failed with errors - [{'loc': ('xdatasources',), 'msg': 'field required', 'type': 'value_error.missing'}]\n",
      "2023-02-10T15:11:17-0500 - INFO - GxConfig.parse_yaml() returning empty `xdatasources`\n",
      "2023-02-10T15:11:17-0500 - INFO - Loading 'datasources' ->\n",
      "{}\n",
      "2023-02-10T15:11:17-0500 - INFO - Loaded 'datasources' ->\n",
      "{}\n"
     ]
    },
    {
     "data": {
      "application/vnd.jupyter.widget-view+json": {
       "model_id": "b6f43d43c2ef4acfaab3c8a1853e8f94",
       "version_major": 2,
       "version_minor": 0
      },
      "text/plain": [
       "Calculating Metrics:   0%|          | 0/2 [00:00<?, ?it/s]"
      ]
     },
     "metadata": {},
     "output_type": "display_data"
    },
    {
     "name": "stdout",
     "output_type": "stream",
     "text": [
      "Columns: \"year\", \"month\", \"day\", \"station_id\".\n"
     ]
    },
    {
     "data": {
      "application/vnd.jupyter.widget-view+json": {
       "model_id": "3c321c6a0b7645ef8cabff44b1f92585",
       "version_major": 2,
       "version_minor": 0
      },
      "text/plain": [
       "Calculating Metrics:   0%|          | 0/1 [00:00<?, ?it/s]"
      ]
     },
     "metadata": {},
     "output_type": "display_data"
    },
    {
     "data": {
      "text/html": [
       "<div>\n",
       "<style scoped>\n",
       "    .dataframe tbody tr th:only-of-type {\n",
       "        vertical-align: middle;\n",
       "    }\n",
       "\n",
       "    .dataframe tbody tr th {\n",
       "        vertical-align: top;\n",
       "    }\n",
       "\n",
       "    .dataframe thead th {\n",
       "        text-align: right;\n",
       "    }\n",
       "</style>\n",
       "<table border=\"1\" class=\"dataframe\">\n",
       "  <thead>\n",
       "    <tr style=\"text-align: right;\">\n",
       "      <th></th>\n",
       "      <th>year</th>\n",
       "      <th>month</th>\n",
       "      <th>day</th>\n",
       "      <th>station_id</th>\n",
       "    </tr>\n",
       "  </thead>\n",
       "  <tbody>\n",
       "    <tr>\n",
       "      <th>0</th>\n",
       "      <td>2022</td>\n",
       "      <td>5</td>\n",
       "      <td>24</td>\n",
       "      <td>TCVG</td>\n",
       "    </tr>\n",
       "    <tr>\n",
       "      <th>1</th>\n",
       "      <td>2022</td>\n",
       "      <td>1</td>\n",
       "      <td>13</td>\n",
       "      <td>KSFX</td>\n",
       "    </tr>\n",
       "    <tr>\n",
       "      <th>2</th>\n",
       "      <td>2022</td>\n",
       "      <td>7</td>\n",
       "      <td>31</td>\n",
       "      <td>TCLT</td>\n",
       "    </tr>\n",
       "    <tr>\n",
       "      <th>3</th>\n",
       "      <td>2023</td>\n",
       "      <td>10</td>\n",
       "      <td>3</td>\n",
       "      <td>KLIX</td>\n",
       "    </tr>\n",
       "    <tr>\n",
       "      <th>4</th>\n",
       "      <td>2023</td>\n",
       "      <td>5</td>\n",
       "      <td>2</td>\n",
       "      <td>KBUF</td>\n",
       "    </tr>\n",
       "  </tbody>\n",
       "</table>\n",
       "</div>"
      ],
      "text/plain": [
       "   year  month  day station_id\n",
       "0  2022      5   24       TCVG\n",
       "1  2022      1   13       KSFX\n",
       "2  2022      7   31       TCLT\n",
       "3  2023     10    3       KLIX\n",
       "4  2023      5    2       KBUF"
      ]
     },
     "execution_count": 2,
     "metadata": {},
     "output_type": "execute_result"
    }
   ],
   "source": [
    "import datetime\n",
    "\n",
    "import pandas as pd\n",
    "\n",
    "import great_expectations as gx\n",
    "import great_expectations.jupyter_ux\n",
    "from great_expectations.core.batch import BatchRequest\n",
    "from great_expectations.checkpoint import SimpleCheckpoint\n",
    "from great_expectations.exceptions import DataContextError\n",
    "\n",
    "context = gx.get_context()\n",
    "\n",
    "batch_request = {'datasource_name': 'nexrad_datasource', 'data_connector_name': 'default_inferred_data_connector_name', 'data_asset_name': 'NexRad', 'limit': 1000}\n",
    "\n",
    "expectation_suite_name = \"nexrad_suite\"\n",
    "\n",
    "validator = context.get_validator(\n",
    "    batch_request=BatchRequest(**batch_request),\n",
    "    expectation_suite_name=expectation_suite_name\n",
    ")\n",
    "column_names = [f'\"{column_name}\"' for column_name in validator.columns()]\n",
    "print(f\"Columns: {', '.join(column_names)}.\")\n",
    "validator.head(n_rows=5, fetch_all=False)"
   ]
  },
  {
   "cell_type": "markdown",
   "id": "4bbc276d",
   "metadata": {},
   "source": [
    "# Select columns\n",
    "\n",
    "Select the columns on which you would like to set expectations and those which you would like to ignore.\n",
    "\n",
    "Great Expectations will choose which expectations might make sense for a column based on the **data type** and **cardinality** of the data in each selected column.\n",
    "\n",
    "Simply comment out columns that are important and should be included. You can select multiple lines and use a Jupyter\n",
    "keyboard shortcut to toggle each line: **Linux/Windows**:\n",
    "`Ctrl-/`, **macOS**: `Cmd-/`\n",
    "\n",
    "Other directives are shown (commented out) as examples of the depth of control possible (see documentation for details).\n"
   ]
  },
  {
   "cell_type": "code",
   "execution_count": 3,
   "id": "ff33cd44",
   "metadata": {},
   "outputs": [],
   "source": [
    "exclude_column_names = [\n",
    "    \"year\",\n",
    "    \"month\",\n",
    "    \"day\",\n",
    "    \"station_id\",\n",
    "]"
   ]
  },
  {
   "cell_type": "code",
   "execution_count": 4,
   "id": "0ec0616a",
   "metadata": {},
   "outputs": [
    {
     "data": {
      "application/vnd.jupyter.widget-view+json": {
       "model_id": "a61ad1a6760b4c7e91e6ce76646ecded",
       "version_major": 2,
       "version_minor": 0
      },
      "text/plain": [
       "Calculating Metrics:   0%|          | 0/8 [00:00<?, ?it/s]"
      ]
     },
     "metadata": {},
     "output_type": "display_data"
    },
    {
     "data": {
      "text/plain": [
       "{\n",
       "  \"meta\": {},\n",
       "  \"exception_info\": {\n",
       "    \"raised_exception\": false,\n",
       "    \"exception_traceback\": null,\n",
       "    \"exception_message\": null\n",
       "  },\n",
       "  \"success\": true,\n",
       "  \"result\": {\n",
       "    \"element_count\": 4000,\n",
       "    \"unexpected_count\": 0,\n",
       "    \"unexpected_percent\": 0.0,\n",
       "    \"partial_unexpected_list\": [],\n",
       "    \"missing_count\": 0,\n",
       "    \"missing_percent\": 0.0,\n",
       "    \"unexpected_percent_total\": 0.0,\n",
       "    \"unexpected_percent_nonmissing\": 0.0\n",
       "  }\n",
       "}"
      ]
     },
     "execution_count": 4,
     "metadata": {},
     "output_type": "execute_result"
    }
   ],
   "source": [
    "validator.expect_column_values_to_be_between(\"year\", 2022, 2023)"
   ]
  },
  {
   "cell_type": "code",
   "execution_count": 5,
   "id": "b56a22e2",
   "metadata": {},
   "outputs": [
    {
     "data": {
      "application/vnd.jupyter.widget-view+json": {
       "model_id": "a9a9f065d9ec4792b0646f0d03f649e6",
       "version_major": 2,
       "version_minor": 0
      },
      "text/plain": [
       "Calculating Metrics:   0%|          | 0/8 [00:00<?, ?it/s]"
      ]
     },
     "metadata": {},
     "output_type": "display_data"
    },
    {
     "data": {
      "text/plain": [
       "{\n",
       "  \"meta\": {},\n",
       "  \"exception_info\": {\n",
       "    \"raised_exception\": false,\n",
       "    \"exception_traceback\": null,\n",
       "    \"exception_message\": null\n",
       "  },\n",
       "  \"success\": true,\n",
       "  \"result\": {\n",
       "    \"element_count\": 4000,\n",
       "    \"unexpected_count\": 0,\n",
       "    \"unexpected_percent\": 0.0,\n",
       "    \"partial_unexpected_list\": [],\n",
       "    \"missing_count\": 0,\n",
       "    \"missing_percent\": 0.0,\n",
       "    \"unexpected_percent_total\": 0.0,\n",
       "    \"unexpected_percent_nonmissing\": 0.0\n",
       "  }\n",
       "}"
      ]
     },
     "execution_count": 5,
     "metadata": {},
     "output_type": "execute_result"
    }
   ],
   "source": [
    "validator.expect_column_values_to_be_between(\"day\",1, 31)"
   ]
  },
  {
   "cell_type": "code",
   "execution_count": 6,
   "id": "6ff50e13",
   "metadata": {},
   "outputs": [
    {
     "data": {
      "application/vnd.jupyter.widget-view+json": {
       "model_id": "36b5befa1d7c4c9a90fca08b2afe086d",
       "version_major": 2,
       "version_minor": 0
      },
      "text/plain": [
       "Calculating Metrics:   0%|          | 0/1 [00:00<?, ?it/s]"
      ]
     },
     "metadata": {},
     "output_type": "display_data"
    },
    {
     "ename": "IndexError",
     "evalue": "list index out of range",
     "output_type": "error",
     "traceback": [
      "\u001b[0;31m---------------------------------------------------------------------------\u001b[0m",
      "\u001b[0;31mIndexError\u001b[0m                                Traceback (most recent call last)",
      "Cell \u001b[0;32mIn[6], line 1\u001b[0m\n\u001b[0;32m----> 1\u001b[0m validator\u001b[39m.\u001b[39;49mexpect_column_values_to_be_of_type(column \u001b[39m=\u001b[39;49m \u001b[39m\"\u001b[39;49m\u001b[39mdays\u001b[39;49m\u001b[39m\"\u001b[39;49m,type_\u001b[39m=\u001b[39;49m\u001b[39m\"\u001b[39;49m\u001b[39mint\u001b[39;49m\u001b[39m\"\u001b[39;49m)\n",
      "File \u001b[0;32m~/Documents/BDIA/Assignment-01/.venv/lib/python3.9/site-packages/great_expectations/validator/validator.py:603\u001b[0m, in \u001b[0;36mValidator.validate_expectation.<locals>.inst_expectation\u001b[0;34m(*args, **kwargs)\u001b[0m\n\u001b[1;32m    597\u001b[0m         validation_result \u001b[39m=\u001b[39m ExpectationValidationResult(\n\u001b[1;32m    598\u001b[0m             success\u001b[39m=\u001b[39m\u001b[39mFalse\u001b[39;00m,\n\u001b[1;32m    599\u001b[0m             exception_info\u001b[39m=\u001b[39mexception_info,\n\u001b[1;32m    600\u001b[0m             expectation_config\u001b[39m=\u001b[39mconfiguration,\n\u001b[1;32m    601\u001b[0m         )\n\u001b[1;32m    602\u001b[0m     \u001b[39melse\u001b[39;00m:\n\u001b[0;32m--> 603\u001b[0m         \u001b[39mraise\u001b[39;00m err\n\u001b[1;32m    605\u001b[0m \u001b[39mif\u001b[39;00m \u001b[39mself\u001b[39m\u001b[39m.\u001b[39m_include_rendered_content:\n\u001b[1;32m    606\u001b[0m     validation_result\u001b[39m.\u001b[39mrender()\n",
      "File \u001b[0;32m~/Documents/BDIA/Assignment-01/.venv/lib/python3.9/site-packages/great_expectations/validator/validator.py:566\u001b[0m, in \u001b[0;36mValidator.validate_expectation.<locals>.inst_expectation\u001b[0;34m(*args, **kwargs)\u001b[0m\n\u001b[1;32m    562\u001b[0m     validation_result \u001b[39m=\u001b[39m ExpectationValidationResult(\n\u001b[1;32m    563\u001b[0m         expectation_config\u001b[39m=\u001b[39mcopy\u001b[39m.\u001b[39mdeepcopy(expectation\u001b[39m.\u001b[39mconfiguration)\n\u001b[1;32m    564\u001b[0m     )\n\u001b[1;32m    565\u001b[0m \u001b[39melse\u001b[39;00m:\n\u001b[0;32m--> 566\u001b[0m     validation_result \u001b[39m=\u001b[39m expectation\u001b[39m.\u001b[39;49mvalidate(\n\u001b[1;32m    567\u001b[0m         validator\u001b[39m=\u001b[39;49m\u001b[39mself\u001b[39;49m,\n\u001b[1;32m    568\u001b[0m         evaluation_parameters\u001b[39m=\u001b[39;49m\u001b[39mself\u001b[39;49m\u001b[39m.\u001b[39;49m_expectation_suite\u001b[39m.\u001b[39;49mevaluation_parameters,\n\u001b[1;32m    569\u001b[0m         data_context\u001b[39m=\u001b[39;49m\u001b[39mself\u001b[39;49m\u001b[39m.\u001b[39;49m_data_context,\n\u001b[1;32m    570\u001b[0m         runtime_configuration\u001b[39m=\u001b[39;49mbasic_runtime_configuration,\n\u001b[1;32m    571\u001b[0m     )\n\u001b[1;32m    573\u001b[0m \u001b[39m# If validate has set active_validation to true, then we do not save the config to avoid\u001b[39;00m\n\u001b[1;32m    574\u001b[0m \u001b[39m# saving updating expectation configs to the same suite during validation runs\u001b[39;00m\n\u001b[1;32m    575\u001b[0m \u001b[39mif\u001b[39;00m \u001b[39mself\u001b[39m\u001b[39m.\u001b[39m_active_validation \u001b[39mis\u001b[39;00m \u001b[39mTrue\u001b[39;00m:\n",
      "File \u001b[0;32m~/Documents/BDIA/Assignment-01/.venv/lib/python3.9/site-packages/great_expectations/expectations/expectation.py:1265\u001b[0m, in \u001b[0;36mExpectation.validate\u001b[0;34m(self, validator, configuration, evaluation_parameters, interactive_evaluation, data_context, runtime_configuration)\u001b[0m\n\u001b[1;32m   1256\u001b[0m \u001b[39mself\u001b[39m\u001b[39m.\u001b[39m_warn_if_result_format_config_in_expectation_configuration(\n\u001b[1;32m   1257\u001b[0m     configuration\u001b[39m=\u001b[39mconfiguration\n\u001b[1;32m   1258\u001b[0m )\n\u001b[1;32m   1260\u001b[0m configuration\u001b[39m.\u001b[39mprocess_evaluation_parameters(\n\u001b[1;32m   1261\u001b[0m     evaluation_parameters, interactive_evaluation, data_context\n\u001b[1;32m   1262\u001b[0m )\n\u001b[1;32m   1263\u001b[0m expectation_validation_result_list: \u001b[39mlist\u001b[39m[\n\u001b[1;32m   1264\u001b[0m     ExpectationValidationResult\n\u001b[0;32m-> 1265\u001b[0m ] \u001b[39m=\u001b[39m validator\u001b[39m.\u001b[39;49mgraph_validate(\n\u001b[1;32m   1266\u001b[0m     configurations\u001b[39m=\u001b[39;49m[configuration],\n\u001b[1;32m   1267\u001b[0m     runtime_configuration\u001b[39m=\u001b[39;49mruntime_configuration,\n\u001b[1;32m   1268\u001b[0m )\n\u001b[1;32m   1269\u001b[0m \u001b[39mreturn\u001b[39;00m expectation_validation_result_list[\u001b[39m0\u001b[39m]\n",
      "File \u001b[0;32m~/Documents/BDIA/Assignment-01/.venv/lib/python3.9/site-packages/great_expectations/validator/validator.py:1078\u001b[0m, in \u001b[0;36mValidator.graph_validate\u001b[0;34m(self, configurations, runtime_configuration)\u001b[0m\n\u001b[1;32m   1071\u001b[0m             evrs \u001b[39m=\u001b[39m \u001b[39mself\u001b[39m\u001b[39m.\u001b[39m_catch_exceptions_in_failing_expectation_validations(\n\u001b[1;32m   1072\u001b[0m                 exception_traceback\u001b[39m=\u001b[39mexception_traceback,\n\u001b[1;32m   1073\u001b[0m                 exception\u001b[39m=\u001b[39merr,\n\u001b[1;32m   1074\u001b[0m                 failing_expectation_configurations\u001b[39m=\u001b[39m[configuration],\n\u001b[1;32m   1075\u001b[0m                 evrs\u001b[39m=\u001b[39mevrs,\n\u001b[1;32m   1076\u001b[0m             )\n\u001b[1;32m   1077\u001b[0m         \u001b[39melse\u001b[39;00m:\n\u001b[0;32m-> 1078\u001b[0m             \u001b[39mraise\u001b[39;00m err\n\u001b[1;32m   1080\u001b[0m \u001b[39mreturn\u001b[39;00m evrs\n",
      "File \u001b[0;32m~/Documents/BDIA/Assignment-01/.venv/lib/python3.9/site-packages/great_expectations/validator/validator.py:1062\u001b[0m, in \u001b[0;36mValidator.graph_validate\u001b[0;34m(self, configurations, runtime_configuration)\u001b[0m\n\u001b[1;32m   1059\u001b[0m \u001b[39mtry\u001b[39;00m:\n\u001b[1;32m   1060\u001b[0m     runtime_configuration_default \u001b[39m=\u001b[39m copy\u001b[39m.\u001b[39mdeepcopy(runtime_configuration)\n\u001b[0;32m-> 1062\u001b[0m     result \u001b[39m=\u001b[39m configuration\u001b[39m.\u001b[39;49mmetrics_validate(\n\u001b[1;32m   1063\u001b[0m         metrics\u001b[39m=\u001b[39;49mresolved_metrics,\n\u001b[1;32m   1064\u001b[0m         execution_engine\u001b[39m=\u001b[39;49m\u001b[39mself\u001b[39;49m\u001b[39m.\u001b[39;49m_execution_engine,\n\u001b[1;32m   1065\u001b[0m         runtime_configuration\u001b[39m=\u001b[39;49mruntime_configuration_default,\n\u001b[1;32m   1066\u001b[0m     )\n\u001b[1;32m   1067\u001b[0m     evrs\u001b[39m.\u001b[39mappend(result)\n\u001b[1;32m   1068\u001b[0m \u001b[39mexcept\u001b[39;00m \u001b[39mException\u001b[39;00m \u001b[39mas\u001b[39;00m err:\n",
      "File \u001b[0;32m~/Documents/BDIA/Assignment-01/.venv/lib/python3.9/site-packages/great_expectations/core/expectation_configuration.py:1489\u001b[0m, in \u001b[0;36mExpectationConfiguration.metrics_validate\u001b[0;34m(self, metrics, runtime_configuration, execution_engine, **kwargs)\u001b[0m\n\u001b[1;32m   1487\u001b[0m expectation_impl: Type[Expectation] \u001b[39m=\u001b[39m \u001b[39mself\u001b[39m\u001b[39m.\u001b[39m_get_expectation_impl()\n\u001b[1;32m   1488\u001b[0m \u001b[39m# noinspection PyCallingNonCallable\u001b[39;00m\n\u001b[0;32m-> 1489\u001b[0m \u001b[39mreturn\u001b[39;00m expectation_impl(\u001b[39mself\u001b[39;49m)\u001b[39m.\u001b[39;49mmetrics_validate(\n\u001b[1;32m   1490\u001b[0m     metrics\u001b[39m=\u001b[39;49mmetrics,\n\u001b[1;32m   1491\u001b[0m     runtime_configuration\u001b[39m=\u001b[39;49mruntime_configuration,\n\u001b[1;32m   1492\u001b[0m     execution_engine\u001b[39m=\u001b[39;49mexecution_engine,\n\u001b[1;32m   1493\u001b[0m )\n",
      "File \u001b[0;32m~/Documents/BDIA/Assignment-01/.venv/lib/python3.9/site-packages/great_expectations/expectations/expectation.py:1064\u001b[0m, in \u001b[0;36mExpectation.metrics_validate\u001b[0;34m(self, metrics, configuration, runtime_configuration, execution_engine, **kwargs)\u001b[0m\n\u001b[1;32m   1056\u001b[0m metric_configuration: MetricConfiguration\n\u001b[1;32m   1057\u001b[0m provided_metrics: Dict[\u001b[39mstr\u001b[39m, MetricValue] \u001b[39m=\u001b[39m {\n\u001b[1;32m   1058\u001b[0m     metric_name: metrics[metric_configuration\u001b[39m.\u001b[39mid]\n\u001b[1;32m   1059\u001b[0m     \u001b[39mfor\u001b[39;00m metric_name, metric_configuration \u001b[39min\u001b[39;00m validation_dependencies\u001b[39m.\u001b[39mmetric_configurations\u001b[39m.\u001b[39mitems()\n\u001b[1;32m   1060\u001b[0m }\n\u001b[1;32m   1062\u001b[0m expectation_validation_result: Union[\n\u001b[1;32m   1063\u001b[0m     ExpectationValidationResult, \u001b[39mdict\u001b[39m\n\u001b[0;32m-> 1064\u001b[0m ] \u001b[39m=\u001b[39m \u001b[39mself\u001b[39;49m\u001b[39m.\u001b[39;49m_validate(\n\u001b[1;32m   1065\u001b[0m     configuration\u001b[39m=\u001b[39;49mconfiguration,\n\u001b[1;32m   1066\u001b[0m     metrics\u001b[39m=\u001b[39;49mprovided_metrics,\n\u001b[1;32m   1067\u001b[0m     runtime_configuration\u001b[39m=\u001b[39;49mruntime_configuration,\n\u001b[1;32m   1068\u001b[0m     execution_engine\u001b[39m=\u001b[39;49mexecution_engine,\n\u001b[1;32m   1069\u001b[0m )\n\u001b[1;32m   1070\u001b[0m evr: ExpectationValidationResult \u001b[39m=\u001b[39m \u001b[39mself\u001b[39m\u001b[39m.\u001b[39m_build_evr(\n\u001b[1;32m   1071\u001b[0m     raw_response\u001b[39m=\u001b[39mexpectation_validation_result,\n\u001b[1;32m   1072\u001b[0m     configuration\u001b[39m=\u001b[39mconfiguration,\n\u001b[1;32m   1073\u001b[0m )\n\u001b[1;32m   1074\u001b[0m \u001b[39mreturn\u001b[39;00m evr\n",
      "File \u001b[0;32m~/Documents/BDIA/Assignment-01/.venv/lib/python3.9/site-packages/great_expectations/expectations/core/expect_column_values_to_be_of_type.py:526\u001b[0m, in \u001b[0;36mExpectColumnValuesToBeOfType._validate\u001b[0;34m(self, configuration, metrics, runtime_configuration, execution_engine)\u001b[0m\n\u001b[1;32m    524\u001b[0m expected_type \u001b[39m=\u001b[39m configuration\u001b[39m.\u001b[39mkwargs\u001b[39m.\u001b[39mget(\u001b[39m\"\u001b[39m\u001b[39mtype_\u001b[39m\u001b[39m\"\u001b[39m)\n\u001b[1;32m    525\u001b[0m actual_column_types_list \u001b[39m=\u001b[39m metrics\u001b[39m.\u001b[39mget(\u001b[39m\"\u001b[39m\u001b[39mtable.column_types\u001b[39m\u001b[39m\"\u001b[39m)\n\u001b[0;32m--> 526\u001b[0m actual_column_type \u001b[39m=\u001b[39m [\n\u001b[1;32m    527\u001b[0m     type_dict[\u001b[39m\"\u001b[39;49m\u001b[39mtype\u001b[39;49m\u001b[39m\"\u001b[39;49m]\n\u001b[1;32m    528\u001b[0m     \u001b[39mfor\u001b[39;49;00m type_dict \u001b[39min\u001b[39;49;00m actual_column_types_list\n\u001b[1;32m    529\u001b[0m     \u001b[39mif\u001b[39;49;00m type_dict[\u001b[39m\"\u001b[39;49m\u001b[39mname\u001b[39;49m\u001b[39m\"\u001b[39;49m] \u001b[39m==\u001b[39;49m column_name\n\u001b[1;32m    530\u001b[0m ][\u001b[39m0\u001b[39;49m]\n\u001b[1;32m    532\u001b[0m \u001b[39mif\u001b[39;00m \u001b[39misinstance\u001b[39m(execution_engine, PandasExecutionEngine):\n\u001b[1;32m    533\u001b[0m     \u001b[39m# only PandasExecutionEngine supports map version of expectation and\u001b[39;00m\n\u001b[1;32m    534\u001b[0m     \u001b[39m# only when column type is object\u001b[39;00m\n\u001b[1;32m    535\u001b[0m     \u001b[39mif\u001b[39;00m actual_column_type\u001b[39m.\u001b[39mtype\u001b[39m.\u001b[39m\u001b[39m__name__\u001b[39m \u001b[39m==\u001b[39m \u001b[39m\"\u001b[39m\u001b[39mobject_\u001b[39m\u001b[39m\"\u001b[39m \u001b[39mand\u001b[39;00m expected_type \u001b[39mnot\u001b[39;00m \u001b[39min\u001b[39;00m [\n\u001b[1;32m    536\u001b[0m         \u001b[39m\"\u001b[39m\u001b[39mobject\u001b[39m\u001b[39m\"\u001b[39m,\n\u001b[1;32m    537\u001b[0m         \u001b[39m\"\u001b[39m\u001b[39mobject_\u001b[39m\u001b[39m\"\u001b[39m,\n\u001b[0;32m   (...)\u001b[0m\n\u001b[1;32m    540\u001b[0m     ]:\n\u001b[1;32m    541\u001b[0m         \u001b[39m# this calls ColumnMapMetric._validate\u001b[39;00m\n",
      "\u001b[0;31mIndexError\u001b[0m: list index out of range"
     ]
    }
   ],
   "source": [
    "validator.expect_column_values_to_be_of_type(column = \"days\",type_=\"int\")"
   ]
  },
  {
   "cell_type": "code",
   "execution_count": null,
   "id": "8a3adb89",
   "metadata": {},
   "outputs": [],
   "source": [
    "validator.expect_column_values_to_be_between(\"hour\",0, 23)"
   ]
  },
  {
   "cell_type": "code",
   "execution_count": null,
   "id": "44c5cd2a",
   "metadata": {},
   "outputs": [],
   "source": []
  },
  {
   "cell_type": "markdown",
   "id": "10565ada",
   "metadata": {},
   "source": [
    "# Run the OnboardingDataAssistant\n",
    "\n",
    "The suites generated here are **not meant to be production suites** -- they are **a starting point to build upon**.\n",
    "\n",
    "**To get to a production-grade suite, you will definitely want to [edit this\n",
    "suite](https://docs.greatexpectations.io/docs/guides/expectations/create_expectations_overview#editing-a-saved-expectation-suite)\n",
    "after this initial step gets you started on the path towards what you want.**\n",
    "\n",
    "This is highly configurable depending on your goals.\n",
    "You can ignore columns, specify cardinality of categorical columns, configure semantic types for columns, even adjust thresholds and/or different estimator parameters, etc.\n",
    "You can find more information about OnboardingDataAssistant and other DataAssistant components (please see documentation for the complete set of DataAssistant controls) [how to choose and control the behavior of the DataAssistant tailored to your goals](https://docs.greatexpectations.io/docs/guides/expectations/data_assistants/how_to_create_an_expectation_suite_with_the_onboarding_data_assistant).\n",
    "\n",
    "Performance considerations:\n",
    "- Latency: We optimized for an explicit \"question/answer\" design, which means we issue **lots** of queries. Connection latency will impact performance.\n",
    "- Data Volume: Small samples of data will often give you a great starting point for understanding the dataset. Consider configuring a sampled asset and profiling a small number of batches.\n",
    "    "
   ]
  },
  {
   "cell_type": "code",
   "execution_count": null,
   "id": "06ca3c09",
   "metadata": {},
   "outputs": [
    {
     "name": "stdout",
     "output_type": "stream",
     "text": [
      "\n"
     ]
    },
    {
     "data": {
      "application/vnd.jupyter.widget-view+json": {
       "model_id": "566c852603f34ba3a16e81629963483e",
       "version_major": 2,
       "version_minor": 0
      },
      "text/plain": [
       "Generating Expectations:   0%|          | 0/8 [00:00<?, ?it/s]"
      ]
     },
     "metadata": {},
     "output_type": "display_data"
    },
    {
     "data": {
      "application/vnd.jupyter.widget-view+json": {
       "model_id": "",
       "version_major": 2,
       "version_minor": 0
      },
      "text/plain": [
       "Profiling Dataset:         0%|          | 0/1 [00:00<?, ?it/s]"
      ]
     },
     "metadata": {},
     "output_type": "display_data"
    },
    {
     "data": {
      "application/vnd.jupyter.widget-view+json": {
       "model_id": "58d3e9f110234dd6b3edbfe6151a0a27",
       "version_major": 2,
       "version_minor": 0
      },
      "text/plain": [
       "Calculating Metrics:   0%|          | 0/1 [00:00<?, ?it/s]"
      ]
     },
     "metadata": {},
     "output_type": "display_data"
    },
    {
     "data": {
      "application/vnd.jupyter.widget-view+json": {
       "model_id": "1227348978bb4f0c847ac2814acfbc75",
       "version_major": 2,
       "version_minor": 0
      },
      "text/plain": [
       "Calculating Metrics:   0%|          | 0/2 [00:00<?, ?it/s]"
      ]
     },
     "metadata": {},
     "output_type": "display_data"
    },
    {
     "data": {
      "application/vnd.jupyter.widget-view+json": {
       "model_id": "83978ebfa5e44060889b71b76df56c66",
       "version_major": 2,
       "version_minor": 0
      },
      "text/plain": [
       "Calculating Metrics:   0%|          | 0/2 [00:00<?, ?it/s]"
      ]
     },
     "metadata": {},
     "output_type": "display_data"
    },
    {
     "data": {
      "application/vnd.jupyter.widget-view+json": {
       "model_id": "482c6ce4af2e4bc98b95152bda75cbef",
       "version_major": 2,
       "version_minor": 0
      },
      "text/plain": [
       "Calculating Metrics:   0%|          | 0/2 [00:00<?, ?it/s]"
      ]
     },
     "metadata": {},
     "output_type": "display_data"
    },
    {
     "data": {
      "application/vnd.jupyter.widget-view+json": {
       "model_id": "66a024dda7ff4240af8fa8655bfcd447",
       "version_major": 2,
       "version_minor": 0
      },
      "text/plain": [
       "Calculating Metrics:   0%|          | 0/1 [00:00<?, ?it/s]"
      ]
     },
     "metadata": {},
     "output_type": "display_data"
    },
    {
     "data": {
      "application/vnd.jupyter.widget-view+json": {
       "model_id": "0f07c8511d324644ae640fe77a7d1e54",
       "version_major": 2,
       "version_minor": 0
      },
      "text/plain": [
       "Calculating Metrics:   0%|          | 0/1 [00:00<?, ?it/s]"
      ]
     },
     "metadata": {},
     "output_type": "display_data"
    },
    {
     "data": {
      "application/vnd.jupyter.widget-view+json": {
       "model_id": "cdb3cfbbe9584dba9576367b4c45e6ef",
       "version_major": 2,
       "version_minor": 0
      },
      "text/plain": [
       "Calculating Metrics: 0it [00:00, ?it/s]"
      ]
     },
     "metadata": {},
     "output_type": "display_data"
    },
    {
     "data": {
      "application/vnd.jupyter.widget-view+json": {
       "model_id": "",
       "version_major": 2,
       "version_minor": 0
      },
      "text/plain": [
       "Profiling Dataset:         0%|          | 0/0 [00:00<?, ?it/s]"
      ]
     },
     "metadata": {},
     "output_type": "display_data"
    },
    {
     "data": {
      "application/vnd.jupyter.widget-view+json": {
       "model_id": "0687943c1f184ff28d87f197aa4c9dd1",
       "version_major": 2,
       "version_minor": 0
      },
      "text/plain": [
       "Calculating Metrics:   0%|          | 0/2 [00:00<?, ?it/s]"
      ]
     },
     "metadata": {},
     "output_type": "display_data"
    },
    {
     "data": {
      "application/vnd.jupyter.widget-view+json": {
       "model_id": "2afbee65ade94b44bcca37c2cdf15645",
       "version_major": 2,
       "version_minor": 0
      },
      "text/plain": [
       "Calculating Metrics:   0%|          | 0/1 [00:00<?, ?it/s]"
      ]
     },
     "metadata": {},
     "output_type": "display_data"
    },
    {
     "data": {
      "application/vnd.jupyter.widget-view+json": {
       "model_id": "c78912f948274e48a72300d0d1650c62",
       "version_major": 2,
       "version_minor": 0
      },
      "text/plain": [
       "Calculating Metrics:   0%|          | 0/1 [00:00<?, ?it/s]"
      ]
     },
     "metadata": {},
     "output_type": "display_data"
    },
    {
     "data": {
      "application/vnd.jupyter.widget-view+json": {
       "model_id": "0f9115c8a1de430985d33745ab81891c",
       "version_major": 2,
       "version_minor": 0
      },
      "text/plain": [
       "Calculating Metrics: 0it [00:00, ?it/s]"
      ]
     },
     "metadata": {},
     "output_type": "display_data"
    },
    {
     "data": {
      "application/vnd.jupyter.widget-view+json": {
       "model_id": "",
       "version_major": 2,
       "version_minor": 0
      },
      "text/plain": [
       "Profiling Dataset:         0%|          | 0/0 [00:00<?, ?it/s]"
      ]
     },
     "metadata": {},
     "output_type": "display_data"
    },
    {
     "data": {
      "application/vnd.jupyter.widget-view+json": {
       "model_id": "fc575b751cdc4051b50b2f3ea037ca1c",
       "version_major": 2,
       "version_minor": 0
      },
      "text/plain": [
       "Calculating Metrics:   0%|          | 0/2 [00:00<?, ?it/s]"
      ]
     },
     "metadata": {},
     "output_type": "display_data"
    },
    {
     "data": {
      "application/vnd.jupyter.widget-view+json": {
       "model_id": "651e425bc6f34da79b9988a5c0c25bf0",
       "version_major": 2,
       "version_minor": 0
      },
      "text/plain": [
       "Calculating Metrics:   0%|          | 0/1 [00:00<?, ?it/s]"
      ]
     },
     "metadata": {},
     "output_type": "display_data"
    },
    {
     "data": {
      "application/vnd.jupyter.widget-view+json": {
       "model_id": "13d9d05bdcad4d1a8b51db02e2ee1c8c",
       "version_major": 2,
       "version_minor": 0
      },
      "text/plain": [
       "Calculating Metrics:   0%|          | 0/1 [00:00<?, ?it/s]"
      ]
     },
     "metadata": {},
     "output_type": "display_data"
    },
    {
     "data": {
      "application/vnd.jupyter.widget-view+json": {
       "model_id": "b35bd2c777654720b1211d1438711f8c",
       "version_major": 2,
       "version_minor": 0
      },
      "text/plain": [
       "Calculating Metrics: 0it [00:00, ?it/s]"
      ]
     },
     "metadata": {},
     "output_type": "display_data"
    },
    {
     "data": {
      "application/vnd.jupyter.widget-view+json": {
       "model_id": "",
       "version_major": 2,
       "version_minor": 0
      },
      "text/plain": [
       "Profiling Dataset:         0%|          | 0/0 [00:00<?, ?it/s]"
      ]
     },
     "metadata": {},
     "output_type": "display_data"
    },
    {
     "data": {
      "application/vnd.jupyter.widget-view+json": {
       "model_id": "518946e77c784c46ae21069cf301ec94",
       "version_major": 2,
       "version_minor": 0
      },
      "text/plain": [
       "Calculating Metrics:   0%|          | 0/2 [00:00<?, ?it/s]"
      ]
     },
     "metadata": {},
     "output_type": "display_data"
    },
    {
     "data": {
      "application/vnd.jupyter.widget-view+json": {
       "model_id": "085019b2f4aa46c39ddecf2a87a2cc50",
       "version_major": 2,
       "version_minor": 0
      },
      "text/plain": [
       "Calculating Metrics:   0%|          | 0/1 [00:00<?, ?it/s]"
      ]
     },
     "metadata": {},
     "output_type": "display_data"
    },
    {
     "data": {
      "application/vnd.jupyter.widget-view+json": {
       "model_id": "",
       "version_major": 2,
       "version_minor": 0
      },
      "text/plain": [
       "Profiling Dataset:         0%|          | 0/0 [00:00<?, ?it/s]"
      ]
     },
     "metadata": {},
     "output_type": "display_data"
    },
    {
     "data": {
      "application/vnd.jupyter.widget-view+json": {
       "model_id": "0853e9614e0c41acb22070873e5fbb08",
       "version_major": 2,
       "version_minor": 0
      },
      "text/plain": [
       "Calculating Metrics:   0%|          | 0/2 [00:00<?, ?it/s]"
      ]
     },
     "metadata": {},
     "output_type": "display_data"
    },
    {
     "data": {
      "application/vnd.jupyter.widget-view+json": {
       "model_id": "c1da60e9b0464e44ad6262962feb4a20",
       "version_major": 2,
       "version_minor": 0
      },
      "text/plain": [
       "Calculating Metrics:   0%|          | 0/1 [00:00<?, ?it/s]"
      ]
     },
     "metadata": {},
     "output_type": "display_data"
    },
    {
     "data": {
      "application/vnd.jupyter.widget-view+json": {
       "model_id": "",
       "version_major": 2,
       "version_minor": 0
      },
      "text/plain": [
       "Profiling Dataset:         0%|          | 0/0 [00:00<?, ?it/s]"
      ]
     },
     "metadata": {},
     "output_type": "display_data"
    },
    {
     "data": {
      "application/vnd.jupyter.widget-view+json": {
       "model_id": "a392ba02e55540eebe0034502486dfbc",
       "version_major": 2,
       "version_minor": 0
      },
      "text/plain": [
       "Calculating Metrics:   0%|          | 0/2 [00:00<?, ?it/s]"
      ]
     },
     "metadata": {},
     "output_type": "display_data"
    },
    {
     "data": {
      "application/vnd.jupyter.widget-view+json": {
       "model_id": "52c8b90cd0da4cdd855ffb2267b97214",
       "version_major": 2,
       "version_minor": 0
      },
      "text/plain": [
       "Calculating Metrics:   0%|          | 0/1 [00:00<?, ?it/s]"
      ]
     },
     "metadata": {},
     "output_type": "display_data"
    },
    {
     "data": {
      "application/vnd.jupyter.widget-view+json": {
       "model_id": "",
       "version_major": 2,
       "version_minor": 0
      },
      "text/plain": [
       "Profiling Dataset:         0%|          | 0/0 [00:00<?, ?it/s]"
      ]
     },
     "metadata": {},
     "output_type": "display_data"
    },
    {
     "data": {
      "application/vnd.jupyter.widget-view+json": {
       "model_id": "68d9781f134b47d18027824324d2c585",
       "version_major": 2,
       "version_minor": 0
      },
      "text/plain": [
       "Calculating Metrics:   0%|          | 0/2 [00:00<?, ?it/s]"
      ]
     },
     "metadata": {},
     "output_type": "display_data"
    },
    {
     "data": {
      "application/vnd.jupyter.widget-view+json": {
       "model_id": "5677033f3d1448e9a8bc6a6495ea48c6",
       "version_major": 2,
       "version_minor": 0
      },
      "text/plain": [
       "Calculating Metrics:   0%|          | 0/1 [00:00<?, ?it/s]"
      ]
     },
     "metadata": {},
     "output_type": "display_data"
    },
    {
     "data": {
      "application/vnd.jupyter.widget-view+json": {
       "model_id": "42ecbcce6add4a26b7b3623aa1d5772d",
       "version_major": 2,
       "version_minor": 0
      },
      "text/plain": [
       "Calculating Metrics: 0it [00:00, ?it/s]"
      ]
     },
     "metadata": {},
     "output_type": "display_data"
    },
    {
     "data": {
      "application/vnd.jupyter.widget-view+json": {
       "model_id": "",
       "version_major": 2,
       "version_minor": 0
      },
      "text/plain": [
       "Profiling Dataset:         0%|          | 0/0 [00:00<?, ?it/s]"
      ]
     },
     "metadata": {},
     "output_type": "display_data"
    }
   ],
   "source": [
    "result = context.assistants.onboarding.run(\n",
    "    batch_request=batch_request,\n",
    "    exclude_column_names=exclude_column_names,\n",
    ")\n",
    "validator.expectation_suite = result.get_expectation_suite(\n",
    "    expectation_suite_name=expectation_suite_name\n",
    ")"
   ]
  },
  {
   "cell_type": "markdown",
   "id": "719dae47",
   "metadata": {},
   "source": [
    "# Save & review your new Expectation Suite\n",
    "\n",
    "Let's save the draft expectation suite as a JSON file in the\n",
    "`great_expectations/expectations` directory of your project and rebuild the Data\n",
    " Docs site to make it easy to review your new suite."
   ]
  },
  {
   "cell_type": "code",
   "execution_count": null,
   "id": "d8d6e631",
   "metadata": {},
   "outputs": [],
   "source": [
    "print(validator.get_expectation_suite(discard_failed_expectations=False))\n",
    "validator.save_expectation_suite(discard_failed_expectations=False)\n",
    "\n",
    "checkpoint_config = {\n",
    "    \"class_name\": \"SimpleCheckpoint\",\n",
    "    \"validations\": [\n",
    "        {\n",
    "            \"batch_request\": batch_request,\n",
    "            \"expectation_suite_name\": expectation_suite_name\n",
    "        }\n",
    "    ]\n",
    "}\n",
    "checkpoint = SimpleCheckpoint(\n",
    "    f\"{validator.active_batch_definition.data_asset_name}_{expectation_suite_name}\",\n",
    "    context,\n",
    "    **checkpoint_config\n",
    ")\n",
    "checkpoint_result = checkpoint.run()\n",
    "\n",
    "context.build_data_docs()\n",
    "\n",
    "validation_result_identifier = checkpoint_result.list_validation_result_identifiers()[0]\n",
    "context.open_data_docs(resource_identifier=validation_result_identifier)"
   ]
  },
  {
   "cell_type": "markdown",
   "id": "3d515d44",
   "metadata": {},
   "source": [
    "## Next steps\n",
    "After you review this initial Expectation Suite in Data Docs you\n",
    "should edit this suite to make finer grained adjustments to the expectations.\n",
    "This can be done by running `great_expectations suite edit nexrad_suite`."
   ]
  }
 ],
 "metadata": {
  "kernelspec": {
   "display_name": ".venv",
   "language": "python",
   "name": "python3"
  },
  "language_info": {
   "codemirror_mode": {
    "name": "ipython",
    "version": 3
   },
   "file_extension": ".py",
   "mimetype": "text/x-python",
   "name": "python",
   "nbconvert_exporter": "python",
   "pygments_lexer": "ipython3",
   "version": "3.9.12"
  },
  "vscode": {
   "interpreter": {
    "hash": "0c5c7d27787aa90d7944bff2de07cf5eb99842e39d63c8e7831e78653bd43c94"
   }
  }
 },
 "nbformat": 4,
 "nbformat_minor": 5
}
